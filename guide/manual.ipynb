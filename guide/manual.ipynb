{
 "cells": [
  {
   "cell_type": "code",
   "execution_count": null,
   "metadata": {},
   "outputs": [],
   "source": []
  },
  {
   "attachments": {},
   "cell_type": "markdown",
   "metadata": {},
   "source": [
    "# Snakemake Manual"
   ]
  },
  {
   "attachments": {},
   "cell_type": "markdown",
   "metadata": {},
   "source": [
    "### Snakefile"
   ]
  },
  {
   "attachments": {},
   "cell_type": "markdown",
   "metadata": {},
   "source": [
    "Snakemake 버젼을 정해주고 Config 파일들을 읽을 수 있게 지정해준다"
   ]
  },
  {
   "cell_type": "code",
   "execution_count": null,
   "metadata": {},
   "outputs": [],
   "source": [
    "from snakemake.utils import min_version\n",
    "import pandas as pd\n",
    "\n",
    "##### set minimum snakemake version #####\n",
    "min_version(\"6.4.1\")\n",
    "\n",
    "configfile: \"workflow/config.yaml\"\n",
    "configfile: \"workflow/tools.yaml\"\n",
    "configfile: \"workflow/params.yaml\""
   ]
  },
  {
   "attachments": {},
   "cell_type": "markdown",
   "metadata": {},
   "source": [
    "common.smk를 꼭 include하도록 포함시켜준다.<br>\n",
    "common.smk는 Snakemake의 기본 설정과 function들이 담겨있는 파일로, 이후에 자세한 설명을 하겠다."
   ]
  },
  {
   "cell_type": "code",
   "execution_count": null,
   "metadata": {},
   "outputs": [],
   "source": [
    "include: \"rules/common.smk\""
   ]
  },
  {
   "attachments": {},
   "cell_type": "markdown",
   "metadata": {},
   "source": [
    "Configuration 파일들의 설정에 따라, 어떤 smk 파일들을 포함시킬지 설정을 해준다."
   ]
  },
  {
   "cell_type": "code",
   "execution_count": null,
   "metadata": {},
   "outputs": [],
   "source": [
    "if config['qc'] == 'fastqc':\n",
    "    include: \"rules/fastqc.smk\"\n",
    "\n",
    "if config['align'] == 'star':\n",
    "    include: \"rules/starindex.smk\"\n",
    "    include: \"rules/star.smk\"\n",
    "    include: \"rules/sam.smk\"\n",
    "\n",
    "if config['trim'] == 'trimmomatic' and config['ends'] == 'PE':\n",
    "    include: \"rules/trimPE.smk\"\n",
    "elif config['trim'] == 'trimmomatic' and config['ends'] == 'SE':\n",
    "    include: \"rules/trimSE.smk\"\n",
    "\n",
    "if config['trim'] == 'trimgalore' and config['ends'] == 'PE':\n",
    "    include: \"rules/galorePE.smk\"\n",
    "elif config['trim'] == 'trimgalore' and config['ends'] == 'SE':\n",
    "    include: \"rules/galoreSE.smk\"\n",
    "\n",
    "if config['quant'] == 'rsem':\n",
    "    include: \"rules/rsemindex.smk\"\n",
    "    include: \"rules/rsem.smk\"\n",
    "elif config['quant'] == 'htseq':\n",
    "    include: \"rules/htseq.smk\""
   ]
  },
  {
   "attachments": {},
   "cell_type": "markdown",
   "metadata": {},
   "source": [
    "추가하고 싶은 툴이 있다면 여기에 꼭 포함을 시킨다. 예를 들어 aligner BWA를 추가하고 싶으면 "
   ]
  },
  {
   "cell_type": "code",
   "execution_count": null,
   "metadata": {},
   "outputs": [],
   "source": [
    "if config['align'] == 'star':\n",
    "    include: \"rules/starindex.smk\"\n",
    "    include: \"rules/star.smk\"\n",
    "    include: \"rules/sam.smk\"\n",
    "elif config['align'] == 'bwa':\n",
    "    include: \"rules/bwa.smk\""
   ]
  },
  {
   "attachments": {},
   "cell_type": "markdown",
   "metadata": {},
   "source": [
    "와 같이 if문을 사용해서 smk 파일을 지정해준다.\n",
    "아래와 같이 tools.yaml의 설정도 수정해줘야한다."
   ]
  },
  {
   "attachments": {},
   "cell_type": "markdown",
   "metadata": {},
   "source": [
    "수정 전:"
   ]
  },
  {
   "cell_type": "code",
   "execution_count": null,
   "metadata": {},
   "outputs": [],
   "source": [
    "# alignment tool <star>\n",
    "align: star"
   ]
  },
  {
   "attachments": {},
   "cell_type": "markdown",
   "metadata": {},
   "source": [
    "수정 후:"
   ]
  },
  {
   "cell_type": "code",
   "execution_count": null,
   "metadata": {},
   "outputs": [],
   "source": [
    "# alignment tool <star/bwa>\n",
    "# align: star\n",
    "align: bwa"
   ]
  },
  {
   "attachments": {},
   "cell_type": "markdown",
   "metadata": {},
   "source": [
    "Snakefile의 마지막으로, rule all은 최종적으로 output이 될 파일들을 모두 list 해준다. <br>\n",
    "실제 list는 common.smk에서 all_input라는 function에 지정해준다."
   ]
  },
  {
   "cell_type": "code",
   "execution_count": null,
   "metadata": {},
   "outputs": [],
   "source": [
    "rule all:\n",
    "    input:\n",
    "        all_input,"
   ]
  },
  {
   "attachments": {},
   "cell_type": "markdown",
   "metadata": {},
   "source": [
    "### common.smk"
   ]
  },
  {
   "cell_type": "code",
   "execution_count": null,
   "metadata": {},
   "outputs": [],
   "source": [
    "from snakemake.utils import validate\n",
    "import pandas as pd\n",
    "import numpy as np"
   ]
  },
  {
   "attachments": {},
   "cell_type": "markdown",
   "metadata": {},
   "source": [
    "samples.csv와 genome.csv를 읽어준다. <br>\n",
    "대문자 변수들은 각 csv 파일의 정보를 담은 list라고 볼 수 있다. <br>\n",
    "EXTOP은 fastq 파일의 형식이 여러가지 있을 수도 있어 그 경우의 수를 list로 지정해준 것이다."
   ]
  },
  {
   "cell_type": "code",
   "execution_count": null,
   "metadata": {},
   "outputs": [],
   "source": [
    "\n",
    "df = pd.read_csv(config['samples'], dtype='str').set_index(\n",
    "    [\"sample_name\", \"reads\", \"fq\", \"ext\"], drop=False)\n",
    "\n",
    "gdf = pd.read_csv(config['genome'], dtype='str').set_index(\n",
    "    [\"name\", \"fa\", \"annot\"], drop=False)\n",
    "\n",
    "SAMPLES = df.sample_name\n",
    "READS = df.reads\n",
    "FULL = df.fq\n",
    "EXT = df.ext\n",
    "FASTA = gdf.fa\n",
    "GTF = gdf.annot\n",
    "NAME = gdf.name\n",
    "EXTOP = ['fastq.gz', 'fq.gz', 'fastq', 'fq']"
   ]
  },
  {
   "cell_type": "code",
   "execution_count": null,
   "metadata": {},
   "outputs": [],
   "source": [
    "wildcard_constraints:\n",
    "    sample = \"|\".join(df.sample_name),\n",
    "    read = \"|\".join(df.reads),\n",
    "    full = \"|\".join(df.fq),\n",
    "    fasta = \"|\".join(gdf.fa),\n",
    "    ann = \"|\".join(gdf.annot),\n",
    "    ext = \"|\".join(df.ext),"
   ]
  },
  {
   "cell_type": "code",
   "execution_count": null,
   "metadata": {},
   "outputs": [],
   "source": [
    "def is_single_end(sample, read):\n",
    "    \"\"\"Determine whether single-end.\"\"\"\n",
    "    fq2_not_present = df.loc[pd.isnull(df['reads'])]\n",
    "    return fq2_not_present[\"sample_name\"]"
   ]
  },
  {
   "cell_type": "code",
   "execution_count": null,
   "metadata": {},
   "outputs": [],
   "source": [
    "def get_fastqs(wildcards):\n",
    "    \"\"\"Get raw FASTQ files from unit sheet.\"\"\"\n",
    "    if config['ends'] == 'SE':\n",
    "        return [f'data/{df.loc[(wildcards.sample), \"fq\"]}']\n",
    "    else:\n",
    "        for i in range(0, len(df)):\n",
    "            u = df.loc[(wildcards.sample), [\"fq\"]].dropna()\n",
    "            return [f'data/{u.fq[i]}', f'data/{u.fq[i + 1]}']"
   ]
  },
  {
   "cell_type": "code",
   "execution_count": null,
   "metadata": {},
   "outputs": [],
   "source": [
    "def get_trimmed(wildcards):\n",
    "    \"\"\"Get raw FASTQ files from unit sheet.\"\"\"\n",
    "    if config['ends'] == 'SE':\n",
    "        return [f'trimmed/{config[\"trim\"]}/{df.loc[(wildcards.sample), \"fq\"]}']\n",
    "    else:\n",
    "        for i in range(0, len(df)):\n",
    "            u = df.loc[(wildcards.sample), [\"fq\"]].dropna()\n",
    "            return [f'trimmed/{config[\"trim\"]}/{u.fq[i]}', f'trimmed/{config[\"trim\"]}/{u.fq[i + 1]}']\n",
    "\n"
   ]
  },
  {
   "attachments": {},
   "cell_type": "markdown",
   "metadata": {},
   "source": [
    "all_input function은 Snakemake가 최종 output file의 wildcard를 알 수 있게 해주는 부분이다. <br>\n",
    "여기서 output file들의 wildcard를 지정해주면 Snakemake에서 그것을 기반으로 input file들의 이름들을 자동으로 읽어준다."
   ]
  },
  {
   "cell_type": "code",
   "execution_count": null,
   "metadata": {},
   "outputs": [],
   "source": [
    "def all_input(wildcards):\n",
    "    \"\"\"\n",
    "    Function defining all requested inputs for the rule all (below).\n",
    "    \"\"\"\n",
    "    wanted_input = []\n",
    "\n",
    "    wanted_input.extend(\n",
    "            [directory(\"./genome/\")]\n",
    "        )\n",
    "\n",
    "    if config['qc']=='fastqc':\n",
    "        wanted_input.extend(\n",
    "            expand(\n",
    "                [\"qc/{tool}/{id.sample_name}_{id.reads}_fastqc.html\",\n",
    "                \"qc/{tool}/{id.sample_name}_{id.reads}_fastqc.zip\"], \n",
    "                id=df[['sample_name', 'reads']].itertuples(), tool= config['qc']\n",
    "            )\n",
    "        )\n",
    "\n",
    "    if config['trim']=='trimmomatic' and config['ends'] == 'PE':\n",
    "        wanted_input.extend(\n",
    "            expand(\n",
    "                [\"trimmed/{tool}/{id.sample_name}_{id.reads}.{id.ext}\",\n",
    "                \"trimmed/{tool}/{id.sample_name}_{id.reads}.se.{id.ext}\"], \n",
    "                id=df[['sample_name', 'reads', 'ext']].itertuples(), tool= config['trim']\n",
    "            )\n",
    "        )\n",
    "    elif config['trim']=='trimmomatic' and config['ends'] == 'SE':\n",
    "        wanted_input.extend(\n",
    "            expand(\n",
    "                [\"trimmed/{tool}/{id.sample_name}.{id.ext}\"], \n",
    "                id=df[['sample_name', 'ext']].itertuples(), tool= config['trim']\n",
    "            )\n",
    "        )\n",
    "\n",
    "    if config['trim']=='trimgalore' and config['ends'] == 'PE':\n",
    "        wanted_input.extend(\n",
    "            expand(\n",
    "                [\"trimmed/{tool}/{id.sample_name}_{id.reads}.{id.ext}\",\n",
    "                \"trimmed/{tool}/{id.sample_name}_{id.reads}.{id.ext}.report.txt\"], \n",
    "                id=df[['sample_name', 'reads', 'ext']].itertuples(), tool= config['trim']\n",
    "            )\n",
    "        )\n",
    "    elif config['trim']=='trimgalore' and config['ends'] == 'SE':\n",
    "        wanted_input.extend(\n",
    "            expand(\n",
    "                [\"trimmed/{tool}/{id.sample_name}.{id.ext}\",\n",
    "                \"trimmed/{tool}/{id.sample_name}.{id.ext}.report.txt\"], \n",
    "                id=df[['sample_name', 'ext']].itertuples(), tool= config['trim']\n",
    "            )\n",
    "        )\n",
    "\n",
    "    if config['align']=='star':\n",
    "        wanted_input.extend(\n",
    "            [directory(\"genome/starindex/\")]\n",
    "        )\n",
    "    \n",
    "    if config['align']=='star' and config['ends'] == 'PE':\n",
    "        wanted_input.extend(\n",
    "            expand(\n",
    "                [\"aligned/{tool}/pe/{id.sample_name}.Aligned.sortedByCoord.out.bam\",\n",
    "                \"aligned/{tool}/pe/{id.sample_name}.Aligned.toTranscriptome.out.bam\",\n",
    "                \"aligned/{tool}/pe/{id.sample_name}.Log.out\",\n",
    "                \"aligned/{tool}/pe/{id.sample_name}.SJ.out.tab\",\n",
    "                \"aligned/{tool}/{id.sample_name}.Aligned.toTranscriptome.sorted.bam\",],\n",
    "                id=df[['sample_name']].itertuples(), tool= config['align']\n",
    "            )\n",
    "        )\n",
    "    elif config['align']=='star' and config['ends'] == 'SE':\n",
    "        wanted_input.extend(\n",
    "            expand(\n",
    "                [\"aligned/{tool}/se/{id.sample_name}.Aligned.sortedByCoord.out.bam\",\n",
    "                \"aligned/{tool}/se/{id.sample_name}.Aligned.toTranscriptome.out.bam\",\n",
    "                \"aligned/{tool}/se/{id.sample_name}.Log.out\",\n",
    "                \"aligned/{tool}/se/{id.sample_name}.SJ.out.tab\",\n",
    "                \"aligned/{tool}/{id.sample_name}.Aligned.toTranscriptome.sorted.bam\",],\n",
    "                id=df[['sample_name']].itertuples(), tool= config['align']\n",
    "            )\n",
    "        )\n",
    "\n",
    "    if config['quant']=='rsem':\n",
    "        wanted_input.extend(\n",
    "            expand(\n",
    "                [\"genome/rsemindex/{a.name}.seq\",\n",
    "                \"quant/{tool}/{id.sample_name}.genes.results\",\n",
    "                \"quant/{tool}/{id.sample_name}.isoforms.results\"],\n",
    "                a=gdf[['name']].itertuples(), id=df[['sample_name']].itertuples(), tool=config['quant']\n",
    "            )\n",
    "        )\n",
    "\n",
    "    if config['quant']=='htseq':\n",
    "            wanted_input.extend(\n",
    "                expand(\n",
    "                    [\"quant/{tool}/{id.sample_name}_count.tsv\"],\n",
    "                    id=df[['sample_name']].itertuples(), tool= config['quant']\n",
    "                )\n",
    "            )\n",
    "\n",
    "    return wanted_input"
   ]
  },
  {
   "attachments": {},
   "cell_type": "markdown",
   "metadata": {},
   "source": [
    "예시로 fastqc를 살펴보겠다."
   ]
  },
  {
   "cell_type": "code",
   "execution_count": null,
   "metadata": {},
   "outputs": [],
   "source": [
    "if config['qc']=='fastqc':\n",
    "    wanted_input.extend(\n",
    "        expand(\n",
    "            [\"qc/{tool}/{id.sample_name}_{id.reads}_fastqc.html\",\n",
    "            \"qc/{tool}/{id.sample_name}_{id.reads}_fastqc.zip\"], \n",
    "            id=df[['sample_name', 'reads']].itertuples(), tool= config['qc']\n",
    "        )\n",
    "    )"
   ]
  },
  {
   "attachments": {},
   "cell_type": "markdown",
   "metadata": {},
   "source": [
    "tools.yaml 파일에서 qc가 'fastqc'로 지정되어있을 때, 'wanted_input'이라는 변수에 파일명을 추가해준다."
   ]
  },
  {
   "cell_type": "code",
   "execution_count": null,
   "metadata": {},
   "outputs": [],
   "source": [
    "    expand(\n",
    "        [\"qc/{tool}/{id.sample_name}_{id.reads}_fastqc.html\",\n",
    "        \"qc/{tool}/{id.sample_name}_{id.reads}_fastqc.zip\"], \n",
    "        id=df[['sample_name', 'reads']].itertuples(), tool= config['qc']\n",
    "    )"
   ]
  },
  {
   "attachments": {},
   "cell_type": "markdown",
   "metadata": {},
   "source": [
    "이 부분이 wildcard들을 지정해주는데, samples.csv에서 가져온 정보와 tools.yaml의 설정을 이용해서 가능한 파일명의 조합을 만들어준다. <br>\n",
    "tools.yaml에서 qc를 'fastqc'라고 설정이 되어있는 경우, <br>\n",
    "sample_name이 \"control_1\", \"control_2\", \"case_1\", \"case_2\"가 있고, <br>\n",
    "reads는 \"1\", \"2\"가 있다고 하면,"
   ]
  },
  {
   "attachments": {},
   "cell_type": "markdown",
   "metadata": {},
   "source": [
    "qc/fastqc/control_1_1_fastqc.html<br>\n",
    "qc/fastqc/control_1_2_fastqc.html<br>\n",
    "qc/fastqc/control_2_1_fastqc.html<br>\n",
    "qc/fastqc/control_2_2_fastqc.html<br>\n",
    "qc/fastqc/case_1_1_fastqc.html<br>\n",
    "qc/fastqc/case_1_2_fastqc.html<br>\n",
    "qc/fastqc/case_2_1_fastqc.html<br>\n",
    "qc/fastqc/case_2_2_fastqc.html<br>\n"
   ]
  },
  {
   "attachments": {},
   "cell_type": "markdown",
   "metadata": {},
   "source": [
    "output 파일들이 만들어질 것이라고 Snakemake에서 인식을 한다."
   ]
  },
  {
   "attachments": {},
   "cell_type": "markdown",
   "metadata": {},
   "source": [
    "그렇다면, fastqc.smk를 살펴보자."
   ]
  },
  {
   "cell_type": "code",
   "execution_count": null,
   "metadata": {},
   "outputs": [],
   "source": [
    "rule fastqc:\n",
    "    input:\n",
    "        expand(\"data/{{sample}}_{{read}}.{ext}\", ext=EXT[0])\n",
    "    output:\n",
    "        html = \"qc/{qctool}/{sample}_{read}_fastqc.html\",\n",
    "        zip = \"qc/{qctool}/{sample}_{read}_fastqc.zip\"\n",
    "    log:\n",
    "        \"qc/{qctool}/logs/{sample}_{read}.fastqc.log\"\n",
    "    threads: config['threads']\n",
    "    wrapper:\n",
    "         \"https://raw.githubusercontent.com/bmi-rna-pipeline/snakemake-wrappers/master/bio/fastqc\""
   ]
  },
  {
   "attachments": {},
   "cell_type": "markdown",
   "metadata": {},
   "source": [
    "여기서도 wildcard가 나오지만, 직접 samples.csv에서 정보를 가져오지 않는다. <br>\n",
    "fastqc.smk 파일의 wildcard들은 common.smk에서 알려준 wildcard로 추정을 한다. "
   ]
  },
  {
   "cell_type": "code",
   "execution_count": null,
   "metadata": {},
   "outputs": [],
   "source": [
    "    output:\n",
    "        html = \"qc/{qctool}/{sample}_{read}_fastqc.html\",\n",
    "        zip = \"qc/{qctool}/{sample}_{read}_fastqc.zip\""
   ]
  },
  {
   "attachments": {},
   "cell_type": "markdown",
   "metadata": {},
   "source": [
    "output 파일들을 봤을 때, "
   ]
  },
  {
   "attachments": {},
   "cell_type": "markdown",
   "metadata": {},
   "source": [
    "common.smk에서 알려준대로의 똑같은 형식으로 되어있기 때문에, Snakemake에서 알아서 인식을 해준다."
   ]
  },
  {
   "cell_type": "code",
   "execution_count": null,
   "metadata": {},
   "outputs": [],
   "source": [
    "    expand(\n",
    "        [\"qc/{tool}/{id.sample_name}_{id.reads}_fastqc.html\",\n",
    "        \"qc/{tool}/{id.sample_name}_{id.reads}_fastqc.zip\"], \n",
    "        id=df[['sample_name', 'reads']].itertuples(), tool= config['qc']\n",
    "    )"
   ]
  },
  {
   "attachments": {},
   "cell_type": "markdown",
   "metadata": {},
   "source": [
    "하지만, common.smk에서 알려주지 않은 부분을 wildcard로 넣고 싶을 때가 있을 것이다. <br>\n",
    "input 파일에서 fastq 파일의 확장자를 wildcard로 지정하고 싶은데, common.smk에서 알려준 wildcard에 그런 정보가 없다."
   ]
  },
  {
   "attachments": {},
   "cell_type": "markdown",
   "metadata": {},
   "source": [
    "그런 경우, common.smk파일에서 만들어준 리스트를 활용한다. (이것을 매번 사용하지 않는 이유는 코드가 불안정해지기 때문이다.)"
   ]
  },
  {
   "cell_type": "code",
   "execution_count": null,
   "metadata": {},
   "outputs": [],
   "source": [
    "df = pd.read_csv(config['samples'], dtype='str').set_index(\n",
    "    [\"sample_name\", \"reads\", \"fq\", \"ext\"], drop=False)\n",
    "\n",
    "gdf = pd.read_csv(config['genome'], dtype='str').set_index(\n",
    "    [\"name\", \"fa\", \"annot\"], drop=False)\n",
    "\n",
    "SAMPLES = df.sample_name\n",
    "READS = df.reads\n",
    "FULL = df.fq\n",
    "EXT = df.ext\n",
    "FASTA = gdf.fa\n",
    "GTF = gdf.annot\n",
    "NAME = gdf.name\n",
    "EXTOP = ['fastq.gz', 'fq.gz', 'fastq', 'fq']"
   ]
  },
  {
   "attachments": {},
   "cell_type": "markdown",
   "metadata": {},
   "source": [
    "samples.csv의 첫번째 파일의 확장자를 가지고 오겠다. EXT에 저장을 해놓았기 때문에, EXT[0]을 wildcard로 만들어준다. "
   ]
  },
  {
   "cell_type": "code",
   "execution_count": null,
   "metadata": {},
   "outputs": [],
   "source": [
    "    input:\n",
    "        expand(\"data/{{sample}}_{{read}}.{ext}\", ext=EXT[0])"
   ]
  },
  {
   "attachments": {},
   "cell_type": "markdown",
   "metadata": {},
   "source": [
    "expand()는 wildcard의 모든 가능한 조합을 가지고 리스트를 만들어주는 것이다. <br>\n",
    "하지만 sample과 read는 반복해서 expand하려는 변수가 아니라, output파일에서 이미 알고 있는 변수이기 때문에 괄호를 하나 더 씌워준다."
   ]
  },
  {
   "attachments": {},
   "cell_type": "markdown",
   "metadata": {},
   "source": [
    "EXT[0] = 'fq.gz'일 경우,"
   ]
  },
  {
   "cell_type": "code",
   "execution_count": null,
   "metadata": {},
   "outputs": [],
   "source": [
    "    input:\n",
    "        expand(\"data/{{sample}}_{{read}}.{ext}\", ext=EXT[0])"
   ]
  },
  {
   "attachments": {},
   "cell_type": "markdown",
   "metadata": {},
   "source": [
    "는"
   ]
  },
  {
   "cell_type": "code",
   "execution_count": null,
   "metadata": {},
   "outputs": [],
   "source": [
    "    input:\n",
    "        \"data/{sample}_{read}.fq.gz\""
   ]
  },
  {
   "attachments": {},
   "cell_type": "markdown",
   "metadata": {},
   "source": [
    "와 최종적으로 같은 기능을 해주는 것이다."
   ]
  },
  {
   "attachments": {},
   "cell_type": "markdown",
   "metadata": {},
   "source": [
    "만약"
   ]
  },
  {
   "cell_type": "code",
   "execution_count": null,
   "metadata": {},
   "outputs": [],
   "source": [
    "EXT = [\"fq.gz\", \"fq.gz\", \"fq.gz\", \"fq.gz\"]"
   ]
  },
  {
   "attachments": {},
   "cell_type": "markdown",
   "metadata": {},
   "source": [
    "일 때,"
   ]
  },
  {
   "cell_type": "code",
   "execution_count": null,
   "metadata": {},
   "outputs": [],
   "source": [
    "    input:\n",
    "        expand(\"data/{{sample}}_{{read}}.{ext}\", ext=EXT)"
   ]
  },
  {
   "attachments": {},
   "cell_type": "markdown",
   "metadata": {},
   "source": [
    "와 같이 wildcard를 EXT 전체로 지정해주면, snakemake는 모든 조합을 사용하기 때문에,"
   ]
  },
  {
   "cell_type": "code",
   "execution_count": null,
   "metadata": {},
   "outputs": [],
   "source": [
    "    input:\n",
    "        \"data/{sample}_{read}.fq.gz\""
   ]
  },
  {
   "attachments": {},
   "cell_type": "markdown",
   "metadata": {},
   "source": [
    "이 아닌,"
   ]
  },
  {
   "cell_type": "code",
   "execution_count": null,
   "metadata": {},
   "outputs": [],
   "source": [
    "    input:\n",
    "        \"data/{sample}_{read}.fq.gz\",\n",
    "        \"data/{sample}_{read}.fq.gz\",\n",
    "        \"data/{sample}_{read}.fq.gz\",\n",
    "        \"data/{sample}_{read}.fq.gz\""
   ]
  },
  {
   "attachments": {},
   "cell_type": "markdown",
   "metadata": {},
   "source": [
    "이런 형태로 인식을 할 수 있기 때문에 EXT[0]하나만 지정한 것이다."
   ]
  },
  {
   "attachments": {},
   "cell_type": "markdown",
   "metadata": {},
   "source": [
    "## Tutorial"
   ]
  },
  {
   "attachments": {},
   "cell_type": "markdown",
   "metadata": {},
   "source": [
    "새로운 툴을 snakemake에 추가해보자."
   ]
  },
  {
   "attachments": {},
   "cell_type": "markdown",
   "metadata": {},
   "source": [
    "우선, smk파일을 만들어준다."
   ]
  },
  {
   "attachments": {},
   "cell_type": "markdown",
   "metadata": {},
   "source": [
    "예시로, trimmomatic Paired end 사용을 위한 smk를 만들어보자."
   ]
  },
  {
   "attachments": {},
   "cell_type": "markdown",
   "metadata": {},
   "source": [
    "먼저, output 파일의 형태를 알고 있어야한다."
   ]
  },
  {
   "cell_type": "code",
   "execution_count": null,
   "metadata": {},
   "outputs": [],
   "source": [
    "    output:\n",
    "        r1 = \"trimmed/{trtool}/{sample}_1.{ext}\",\n",
    "        r2 = \"trimmed/{trtool}/{sample}_2.{ext}\",\n",
    "        r1_unpaired = \"trimmed/{trtool}/{sample}_1.se.{ext}\",\n",
    "        r2_unpaired = \"trimmed/{trtool}/{sample}_2.se.{ext}\""
   ]
  },
  {
   "cell_type": "code",
   "execution_count": null,
   "metadata": {},
   "outputs": [],
   "source": []
  },
  {
   "cell_type": "code",
   "execution_count": null,
   "metadata": {},
   "outputs": [],
   "source": [
    "    input:\n",
    "        r1 = \"data/{sample}_1.{ext}\",\n",
    "        r2 = \"data/{sample}_2.{ext}\""
   ]
  },
  {
   "attachments": {},
   "cell_type": "markdown",
   "metadata": {},
   "source": []
  }
 ],
 "metadata": {
  "kernelspec": {
   "display_name": "Python 3",
   "language": "python",
   "name": "python3"
  },
  "language_info": {
   "name": "python",
   "version": "3.10.8 (main, Nov 24 2022, 14:13:03) [GCC 11.2.0]"
  },
  "orig_nbformat": 4,
  "vscode": {
   "interpreter": {
    "hash": "2a11798e933ce00fa7cfcb46789bf8220c993a96eae5b04858fadee7c549665f"
   }
  }
 },
 "nbformat": 4,
 "nbformat_minor": 2
}
